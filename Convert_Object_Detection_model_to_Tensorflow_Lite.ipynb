{
  "nbformat": 4,
  "nbformat_minor": 0,
  "metadata": {
    "colab": {
      "name": "Convert_Object_Detection_model_to_Tensorflow_Lite.ipynb",
      "provenance": [],
      "collapsed_sections": []
    },
    "kernelspec": {
      "name": "python3",
      "display_name": "Python 3"
    }
  },
  "cells": [
    {
      "cell_type": "markdown",
      "metadata": {
        "id": "OUG8ory6hb2R"
      },
      "source": [
        "# Convert Tensorflow OD API model to Tensorflow Lite"
      ]
    },
    {
      "cell_type": "markdown",
      "metadata": {
        "id": "9IUsiOvFrF5c"
      },
      "source": [
        "## Installation"
      ]
    },
    {
      "cell_type": "code",
      "metadata": {
        "id": "qgR_6bFKq7Il",
        "colab": {
          "base_uri": "https://localhost:8080/"
        },
        "outputId": "fba9d851-139c-4591-ed52-9bb444c4d85f"
      },
      "source": [
        "!pip install tf-nightly -q"
      ],
      "execution_count": null,
      "outputs": [
        {
          "output_type": "stream",
          "text": [
            "\u001b[K     |████████████████████████████████| 454.7MB 36kB/s \n",
            "\u001b[K     |████████████████████████████████| 471kB 35.3MB/s \n",
            "\u001b[K     |████████████████████████████████| 4.2MB 30.5MB/s \n",
            "\u001b[K     |████████████████████████████████| 5.5MB 20.5MB/s \n",
            "\u001b[K     |████████████████████████████████| 1.3MB 43.3MB/s \n",
            "\u001b[31mERROR: tensorflow 2.5.0 has requirement grpcio~=1.34.0, but you'll have grpcio 1.38.0 which is incompatible.\u001b[0m\n",
            "\u001b[31mERROR: tensorflow 2.5.0 has requirement keras-nightly~=2.5.0.dev, but you'll have keras-nightly 2.6.0.dev2021061200 which is incompatible.\u001b[0m\n",
            "\u001b[?25h"
          ],
          "name": "stdout"
        }
      ]
    },
    {
      "cell_type": "code",
      "metadata": {
        "id": "q67HzXF7tsc0",
        "colab": {
          "base_uri": "https://localhost:8080/"
        },
        "outputId": "21fe0fbc-71cb-4022-9dc3-44abbbff67c7"
      },
      "source": [
        "!pip install -q tflite_support"
      ],
      "execution_count": null,
      "outputs": [
        {
          "output_type": "stream",
          "text": [
            "\u001b[K     |████████████████████████████████| 1.1MB 7.3MB/s \n",
            "\u001b[K     |████████████████████████████████| 194kB 26.1MB/s \n",
            "\u001b[?25h"
          ],
          "name": "stdout"
        }
      ]
    },
    {
      "cell_type": "code",
      "metadata": {
        "id": "6QBO9p2ArAbp",
        "colab": {
          "base_uri": "https://localhost:8080/"
        },
        "outputId": "e3f1ff45-6876-483e-8f98-3391ea0da8f2"
      },
      "source": [
        "import os\n",
        "import pathlib\n",
        "\n",
        "# Clone the tensorflow models repository if it doesn't already exist\n",
        "if \"models\" in pathlib.Path.cwd().parts:\n",
        "  while \"models\" in pathlib.Path.cwd().parts:\n",
        "    os.chdir('..')\n",
        "elif not pathlib.Path('models').exists():\n",
        "  !git clone --depth 1 https://github.com/tensorflow/models"
      ],
      "execution_count": null,
      "outputs": [
        {
          "output_type": "stream",
          "text": [
            "Cloning into 'models'...\n",
            "remote: Enumerating objects: 2689, done.\u001b[K\n",
            "remote: Counting objects: 100% (2689/2689), done.\u001b[K\n",
            "remote: Compressing objects: 100% (2233/2233), done.\u001b[K\n",
            "remote: Total 2689 (delta 683), reused 1247 (delta 423), pack-reused 0\u001b[K\n",
            "Receiving objects: 100% (2689/2689), 32.67 MiB | 27.71 MiB/s, done.\n",
            "Resolving deltas: 100% (683/683), done.\n"
          ],
          "name": "stdout"
        }
      ]
    },
    {
      "cell_type": "code",
      "metadata": {
        "id": "LrrHGO86rCEo",
        "colab": {
          "base_uri": "https://localhost:8080/"
        },
        "outputId": "934209a7-56f5-429d-b78b-8d21af6be5b0"
      },
      "source": [
        "%%bash\n",
        "cd models/research/\n",
        "protoc object_detection/protos/*.proto --python_out=.\n",
        "cp object_detection/packages/tf2/setup.py .\n",
        "pip install -q ."
      ],
      "execution_count": null,
      "outputs": [
        {
          "output_type": "stream",
          "text": [
            "ERROR: tf-nightly 2.6.0.dev20210612 has requirement keras-nightly~=2.6.0.dev, but you'll have keras-nightly 2.5.0.dev2021032900 which is incompatible.\n",
            "ERROR: tensorflow 2.5.0 has requirement grpcio~=1.34.0, but you'll have grpcio 1.38.0 which is incompatible.\n",
            "ERROR: multiprocess 0.70.11.1 has requirement dill>=0.3.3, but you'll have dill 0.3.1.1 which is incompatible.\n",
            "ERROR: google-colab 1.0.0 has requirement requests~=2.23.0, but you'll have requests 2.25.1 which is incompatible.\n",
            "ERROR: datascience 0.10.6 has requirement folium==0.2.1, but you'll have folium 0.8.3 which is incompatible.\n",
            "ERROR: apache-beam 2.30.0 has requirement avro-python3!=1.9.2,<1.10.0,>=1.8.1, but you'll have avro-python3 1.10.2 which is incompatible.\n"
          ],
          "name": "stderr"
        }
      ]
    },
    {
      "cell_type": "code",
      "metadata": {
        "id": "Gws9Q3kcrE4i",
        "colab": {
          "base_uri": "https://localhost:8080/"
        },
        "outputId": "fff0fcd1-dc29-4174-a0fc-34384b425248"
      },
      "source": [
        "#run model builder test\n",
        "!python /content/models/research/object_detection/builders/model_builder_tf2_test.py"
      ],
      "execution_count": null,
      "outputs": [
        {
          "output_type": "stream",
          "text": [
            "2021-06-12 18:44:11.460702: E tensorflow/core/lib/monitoring/collection_registry.cc:77] Cannot register 2 metrics with the same name: /tensorflow/core/saved_model/write/count\n",
            "2021-06-12 18:44:11.460781: E tensorflow/core/lib/monitoring/collection_registry.cc:77] Cannot register 2 metrics with the same name: /tensorflow/core/saved_model/read/count\n",
            "2021-06-12 18:44:11.460804: E tensorflow/core/lib/monitoring/collection_registry.cc:77] Cannot register 2 metrics with the same name: /tensorflow/core/saved_model/write/api\n",
            "2021-06-12 18:44:11.460835: E tensorflow/core/lib/monitoring/collection_registry.cc:77] Cannot register 2 metrics with the same name: /tensorflow/core/saved_model/read/api\n",
            "2021-06-12 18:44:14.061006: E tensorflow/stream_executor/cuda/cuda_driver.cc:271] failed call to cuInit: CUDA_ERROR_NO_DEVICE: no CUDA-capable device is detected\n",
            "2021-06-12 18:44:14.061072: I tensorflow/stream_executor/cuda/cuda_diagnostics.cc:156] kernel driver does not appear to be running on this host (f7b37b1d0809): /proc/driver/nvidia/version does not exist\n",
            "Running tests under Python 3.7.10: /usr/bin/python3\n",
            "[ RUN      ] ModelBuilderTF2Test.test_create_center_net_deepmac\n",
            "2021-06-12 18:44:14.069674: I tensorflow/core/platform/cpu_feature_guard.cc:142] This TensorFlow binary is optimized with oneAPI Deep Neural Network Library (oneDNN) to use the following CPU instructions in performance-critical operations:  AVX2 FMA\n",
            "To enable them in other operations, rebuild TensorFlow with the appropriate compiler flags.\n",
            "W0612 18:44:14.327663 139997875873664 model_builder.py:1085] Building experimental DeepMAC meta-arch. Some features may be omitted.\n",
            "INFO:tensorflow:time(__main__.ModelBuilderTF2Test.test_create_center_net_deepmac): 0.66s\n",
            "I0612 18:44:14.728347 139997875873664 test_util.py:2189] time(__main__.ModelBuilderTF2Test.test_create_center_net_deepmac): 0.66s\n",
            "[       OK ] ModelBuilderTF2Test.test_create_center_net_deepmac\n",
            "[ RUN      ] ModelBuilderTF2Test.test_create_center_net_model0 (customize_head_params=True)\n",
            "INFO:tensorflow:time(__main__.ModelBuilderTF2Test.test_create_center_net_model0 (customize_head_params=True)): 0.54s\n",
            "I0612 18:44:15.270446 139997875873664 test_util.py:2189] time(__main__.ModelBuilderTF2Test.test_create_center_net_model0 (customize_head_params=True)): 0.54s\n",
            "[       OK ] ModelBuilderTF2Test.test_create_center_net_model0 (customize_head_params=True)\n",
            "[ RUN      ] ModelBuilderTF2Test.test_create_center_net_model1 (customize_head_params=False)\n",
            "INFO:tensorflow:time(__main__.ModelBuilderTF2Test.test_create_center_net_model1 (customize_head_params=False)): 0.3s\n",
            "I0612 18:44:15.573663 139997875873664 test_util.py:2189] time(__main__.ModelBuilderTF2Test.test_create_center_net_model1 (customize_head_params=False)): 0.3s\n",
            "[       OK ] ModelBuilderTF2Test.test_create_center_net_model1 (customize_head_params=False)\n",
            "[ RUN      ] ModelBuilderTF2Test.test_create_center_net_model_from_keypoints\n",
            "INFO:tensorflow:time(__main__.ModelBuilderTF2Test.test_create_center_net_model_from_keypoints): 0.27s\n",
            "I0612 18:44:15.849103 139997875873664 test_util.py:2189] time(__main__.ModelBuilderTF2Test.test_create_center_net_model_from_keypoints): 0.27s\n",
            "[       OK ] ModelBuilderTF2Test.test_create_center_net_model_from_keypoints\n",
            "[ RUN      ] ModelBuilderTF2Test.test_create_center_net_model_mobilenet\n",
            "WARNING:tensorflow:`input_shape` is undefined or non-square, or `rows` is not in [96, 128, 160, 192, 224]. Weights for input shape (224, 224) will be loaded as the default.\n",
            "W0612 18:44:15.851732 139997875873664 mobilenet_v2.py:296] `input_shape` is undefined or non-square, or `rows` is not in [96, 128, 160, 192, 224]. Weights for input shape (224, 224) will be loaded as the default.\n",
            "Downloading data from https://storage.googleapis.com/tensorflow/keras-applications/mobilenet_v2/mobilenet_v2_weights_tf_dim_ordering_tf_kernels_1.0_224_no_top.h5\n",
            "9412608/9406464 [==============================] - 0s 0us/step\n",
            "INFO:tensorflow:time(__main__.ModelBuilderTF2Test.test_create_center_net_model_mobilenet): 2.32s\n",
            "I0612 18:44:18.172668 139997875873664 test_util.py:2189] time(__main__.ModelBuilderTF2Test.test_create_center_net_model_mobilenet): 2.32s\n",
            "[       OK ] ModelBuilderTF2Test.test_create_center_net_model_mobilenet\n",
            "[ RUN      ] ModelBuilderTF2Test.test_create_experimental_model\n",
            "INFO:tensorflow:time(__main__.ModelBuilderTF2Test.test_create_experimental_model): 0.0s\n",
            "I0612 18:44:18.173927 139997875873664 test_util.py:2189] time(__main__.ModelBuilderTF2Test.test_create_experimental_model): 0.0s\n",
            "[       OK ] ModelBuilderTF2Test.test_create_experimental_model\n",
            "[ RUN      ] ModelBuilderTF2Test.test_create_faster_rcnn_from_config_with_crop_feature0 (True)\n",
            "INFO:tensorflow:time(__main__.ModelBuilderTF2Test.test_create_faster_rcnn_from_config_with_crop_feature0 (True)): 0.02s\n",
            "I0612 18:44:18.199364 139997875873664 test_util.py:2189] time(__main__.ModelBuilderTF2Test.test_create_faster_rcnn_from_config_with_crop_feature0 (True)): 0.02s\n",
            "[       OK ] ModelBuilderTF2Test.test_create_faster_rcnn_from_config_with_crop_feature0 (True)\n",
            "[ RUN      ] ModelBuilderTF2Test.test_create_faster_rcnn_from_config_with_crop_feature1 (False)\n",
            "INFO:tensorflow:time(__main__.ModelBuilderTF2Test.test_create_faster_rcnn_from_config_with_crop_feature1 (False)): 0.02s\n",
            "I0612 18:44:18.216681 139997875873664 test_util.py:2189] time(__main__.ModelBuilderTF2Test.test_create_faster_rcnn_from_config_with_crop_feature1 (False)): 0.02s\n",
            "[       OK ] ModelBuilderTF2Test.test_create_faster_rcnn_from_config_with_crop_feature1 (False)\n",
            "[ RUN      ] ModelBuilderTF2Test.test_create_faster_rcnn_model_from_config_with_example_miner\n",
            "INFO:tensorflow:time(__main__.ModelBuilderTF2Test.test_create_faster_rcnn_model_from_config_with_example_miner): 0.02s\n",
            "I0612 18:44:18.234538 139997875873664 test_util.py:2189] time(__main__.ModelBuilderTF2Test.test_create_faster_rcnn_model_from_config_with_example_miner): 0.02s\n",
            "[       OK ] ModelBuilderTF2Test.test_create_faster_rcnn_model_from_config_with_example_miner\n",
            "[ RUN      ] ModelBuilderTF2Test.test_create_faster_rcnn_models_from_config_faster_rcnn_with_matmul\n",
            "INFO:tensorflow:time(__main__.ModelBuilderTF2Test.test_create_faster_rcnn_models_from_config_faster_rcnn_with_matmul): 0.11s\n",
            "I0612 18:44:18.348875 139997875873664 test_util.py:2189] time(__main__.ModelBuilderTF2Test.test_create_faster_rcnn_models_from_config_faster_rcnn_with_matmul): 0.11s\n",
            "[       OK ] ModelBuilderTF2Test.test_create_faster_rcnn_models_from_config_faster_rcnn_with_matmul\n",
            "[ RUN      ] ModelBuilderTF2Test.test_create_faster_rcnn_models_from_config_faster_rcnn_without_matmul\n",
            "INFO:tensorflow:time(__main__.ModelBuilderTF2Test.test_create_faster_rcnn_models_from_config_faster_rcnn_without_matmul): 0.11s\n",
            "I0612 18:44:18.461735 139997875873664 test_util.py:2189] time(__main__.ModelBuilderTF2Test.test_create_faster_rcnn_models_from_config_faster_rcnn_without_matmul): 0.11s\n",
            "[       OK ] ModelBuilderTF2Test.test_create_faster_rcnn_models_from_config_faster_rcnn_without_matmul\n",
            "[ RUN      ] ModelBuilderTF2Test.test_create_faster_rcnn_models_from_config_mask_rcnn_with_matmul\n",
            "INFO:tensorflow:time(__main__.ModelBuilderTF2Test.test_create_faster_rcnn_models_from_config_mask_rcnn_with_matmul): 0.12s\n",
            "I0612 18:44:18.584266 139997875873664 test_util.py:2189] time(__main__.ModelBuilderTF2Test.test_create_faster_rcnn_models_from_config_mask_rcnn_with_matmul): 0.12s\n",
            "[       OK ] ModelBuilderTF2Test.test_create_faster_rcnn_models_from_config_mask_rcnn_with_matmul\n",
            "[ RUN      ] ModelBuilderTF2Test.test_create_faster_rcnn_models_from_config_mask_rcnn_without_matmul\n",
            "INFO:tensorflow:time(__main__.ModelBuilderTF2Test.test_create_faster_rcnn_models_from_config_mask_rcnn_without_matmul): 0.12s\n",
            "I0612 18:44:18.700952 139997875873664 test_util.py:2189] time(__main__.ModelBuilderTF2Test.test_create_faster_rcnn_models_from_config_mask_rcnn_without_matmul): 0.12s\n",
            "[       OK ] ModelBuilderTF2Test.test_create_faster_rcnn_models_from_config_mask_rcnn_without_matmul\n",
            "[ RUN      ] ModelBuilderTF2Test.test_create_rfcn_model_from_config\n",
            "INFO:tensorflow:time(__main__.ModelBuilderTF2Test.test_create_rfcn_model_from_config): 0.12s\n",
            "I0612 18:44:18.818779 139997875873664 test_util.py:2189] time(__main__.ModelBuilderTF2Test.test_create_rfcn_model_from_config): 0.12s\n",
            "[       OK ] ModelBuilderTF2Test.test_create_rfcn_model_from_config\n",
            "[ RUN      ] ModelBuilderTF2Test.test_create_ssd_fpn_model_from_config\n",
            "INFO:tensorflow:time(__main__.ModelBuilderTF2Test.test_create_ssd_fpn_model_from_config): 0.03s\n",
            "I0612 18:44:18.851645 139997875873664 test_util.py:2189] time(__main__.ModelBuilderTF2Test.test_create_ssd_fpn_model_from_config): 0.03s\n",
            "[       OK ] ModelBuilderTF2Test.test_create_ssd_fpn_model_from_config\n",
            "[ RUN      ] ModelBuilderTF2Test.test_create_ssd_models_from_config\n",
            "I0612 18:44:19.223222 139997875873664 ssd_efficientnet_bifpn_feature_extractor.py:143] EfficientDet EfficientNet backbone version: efficientnet-b0\n",
            "I0612 18:44:19.223441 139997875873664 ssd_efficientnet_bifpn_feature_extractor.py:144] EfficientDet BiFPN num filters: 64\n",
            "I0612 18:44:19.223536 139997875873664 ssd_efficientnet_bifpn_feature_extractor.py:146] EfficientDet BiFPN num iterations: 3\n",
            "I0612 18:44:19.226266 139997875873664 efficientnet_model.py:147] round_filter input=32 output=32\n",
            "I0612 18:44:19.243880 139997875873664 efficientnet_model.py:147] round_filter input=32 output=32\n",
            "I0612 18:44:19.244081 139997875873664 efficientnet_model.py:147] round_filter input=16 output=16\n",
            "I0612 18:44:19.312613 139997875873664 efficientnet_model.py:147] round_filter input=16 output=16\n",
            "I0612 18:44:19.312850 139997875873664 efficientnet_model.py:147] round_filter input=24 output=24\n",
            "I0612 18:44:19.479823 139997875873664 efficientnet_model.py:147] round_filter input=24 output=24\n",
            "I0612 18:44:19.480035 139997875873664 efficientnet_model.py:147] round_filter input=40 output=40\n",
            "I0612 18:44:19.655251 139997875873664 efficientnet_model.py:147] round_filter input=40 output=40\n",
            "I0612 18:44:19.655447 139997875873664 efficientnet_model.py:147] round_filter input=80 output=80\n",
            "I0612 18:44:19.927237 139997875873664 efficientnet_model.py:147] round_filter input=80 output=80\n",
            "I0612 18:44:19.927460 139997875873664 efficientnet_model.py:147] round_filter input=112 output=112\n",
            "I0612 18:44:20.212606 139997875873664 efficientnet_model.py:147] round_filter input=112 output=112\n",
            "I0612 18:44:20.212836 139997875873664 efficientnet_model.py:147] round_filter input=192 output=192\n",
            "I0612 18:44:20.633318 139997875873664 efficientnet_model.py:147] round_filter input=192 output=192\n",
            "I0612 18:44:20.633537 139997875873664 efficientnet_model.py:147] round_filter input=320 output=320\n",
            "I0612 18:44:20.746673 139997875873664 efficientnet_model.py:147] round_filter input=1280 output=1280\n",
            "I0612 18:44:20.814387 139997875873664 efficientnet_model.py:458] Building model efficientnet with params ModelConfig(width_coefficient=1.0, depth_coefficient=1.0, resolution=224, dropout_rate=0.2, blocks=(BlockConfig(input_filters=32, output_filters=16, kernel_size=3, num_repeat=1, expand_ratio=1, strides=(1, 1), se_ratio=0.25, id_skip=True, fused_conv=False, conv_type='depthwise'), BlockConfig(input_filters=16, output_filters=24, kernel_size=3, num_repeat=2, expand_ratio=6, strides=(2, 2), se_ratio=0.25, id_skip=True, fused_conv=False, conv_type='depthwise'), BlockConfig(input_filters=24, output_filters=40, kernel_size=5, num_repeat=2, expand_ratio=6, strides=(2, 2), se_ratio=0.25, id_skip=True, fused_conv=False, conv_type='depthwise'), BlockConfig(input_filters=40, output_filters=80, kernel_size=3, num_repeat=3, expand_ratio=6, strides=(2, 2), se_ratio=0.25, id_skip=True, fused_conv=False, conv_type='depthwise'), BlockConfig(input_filters=80, output_filters=112, kernel_size=5, num_repeat=3, expand_ratio=6, strides=(1, 1), se_ratio=0.25, id_skip=True, fused_conv=False, conv_type='depthwise'), BlockConfig(input_filters=112, output_filters=192, kernel_size=5, num_repeat=4, expand_ratio=6, strides=(2, 2), se_ratio=0.25, id_skip=True, fused_conv=False, conv_type='depthwise'), BlockConfig(input_filters=192, output_filters=320, kernel_size=3, num_repeat=1, expand_ratio=6, strides=(1, 1), se_ratio=0.25, id_skip=True, fused_conv=False, conv_type='depthwise')), stem_base_filters=32, top_base_filters=1280, activation='simple_swish', batch_norm='default', bn_momentum=0.99, bn_epsilon=0.001, weight_decay=5e-06, drop_connect_rate=0.2, depth_divisor=8, min_depth=None, use_se=True, input_channels=3, num_classes=1000, model_name='efficientnet', rescale_input=False, data_format='channels_last', dtype='float32')\n",
            "I0612 18:44:20.874681 139997875873664 ssd_efficientnet_bifpn_feature_extractor.py:143] EfficientDet EfficientNet backbone version: efficientnet-b1\n",
            "I0612 18:44:20.874954 139997875873664 ssd_efficientnet_bifpn_feature_extractor.py:144] EfficientDet BiFPN num filters: 88\n",
            "I0612 18:44:20.875068 139997875873664 ssd_efficientnet_bifpn_feature_extractor.py:146] EfficientDet BiFPN num iterations: 4\n",
            "I0612 18:44:20.878198 139997875873664 efficientnet_model.py:147] round_filter input=32 output=32\n",
            "I0612 18:44:20.898999 139997875873664 efficientnet_model.py:147] round_filter input=32 output=32\n",
            "I0612 18:44:20.899205 139997875873664 efficientnet_model.py:147] round_filter input=16 output=16\n",
            "I0612 18:44:21.041010 139997875873664 efficientnet_model.py:147] round_filter input=16 output=16\n",
            "I0612 18:44:21.041227 139997875873664 efficientnet_model.py:147] round_filter input=24 output=24\n",
            "I0612 18:44:21.305981 139997875873664 efficientnet_model.py:147] round_filter input=24 output=24\n",
            "I0612 18:44:21.306196 139997875873664 efficientnet_model.py:147] round_filter input=40 output=40\n",
            "I0612 18:44:21.576923 139997875873664 efficientnet_model.py:147] round_filter input=40 output=40\n",
            "I0612 18:44:21.577133 139997875873664 efficientnet_model.py:147] round_filter input=80 output=80\n",
            "I0612 18:44:21.943992 139997875873664 efficientnet_model.py:147] round_filter input=80 output=80\n",
            "I0612 18:44:21.944205 139997875873664 efficientnet_model.py:147] round_filter input=112 output=112\n",
            "I0612 18:44:22.319786 139997875873664 efficientnet_model.py:147] round_filter input=112 output=112\n",
            "I0612 18:44:22.320015 139997875873664 efficientnet_model.py:147] round_filter input=192 output=192\n",
            "I0612 18:44:22.853197 139997875873664 efficientnet_model.py:147] round_filter input=192 output=192\n",
            "I0612 18:44:22.853416 139997875873664 efficientnet_model.py:147] round_filter input=320 output=320\n",
            "I0612 18:44:23.083459 139997875873664 efficientnet_model.py:147] round_filter input=1280 output=1280\n",
            "I0612 18:44:23.275868 139997875873664 efficientnet_model.py:458] Building model efficientnet with params ModelConfig(width_coefficient=1.0, depth_coefficient=1.1, resolution=240, dropout_rate=0.2, blocks=(BlockConfig(input_filters=32, output_filters=16, kernel_size=3, num_repeat=1, expand_ratio=1, strides=(1, 1), se_ratio=0.25, id_skip=True, fused_conv=False, conv_type='depthwise'), BlockConfig(input_filters=16, output_filters=24, kernel_size=3, num_repeat=2, expand_ratio=6, strides=(2, 2), se_ratio=0.25, id_skip=True, fused_conv=False, conv_type='depthwise'), BlockConfig(input_filters=24, output_filters=40, kernel_size=5, num_repeat=2, expand_ratio=6, strides=(2, 2), se_ratio=0.25, id_skip=True, fused_conv=False, conv_type='depthwise'), BlockConfig(input_filters=40, output_filters=80, kernel_size=3, num_repeat=3, expand_ratio=6, strides=(2, 2), se_ratio=0.25, id_skip=True, fused_conv=False, conv_type='depthwise'), BlockConfig(input_filters=80, output_filters=112, kernel_size=5, num_repeat=3, expand_ratio=6, strides=(1, 1), se_ratio=0.25, id_skip=True, fused_conv=False, conv_type='depthwise'), BlockConfig(input_filters=112, output_filters=192, kernel_size=5, num_repeat=4, expand_ratio=6, strides=(2, 2), se_ratio=0.25, id_skip=True, fused_conv=False, conv_type='depthwise'), BlockConfig(input_filters=192, output_filters=320, kernel_size=3, num_repeat=1, expand_ratio=6, strides=(1, 1), se_ratio=0.25, id_skip=True, fused_conv=False, conv_type='depthwise')), stem_base_filters=32, top_base_filters=1280, activation='simple_swish', batch_norm='default', bn_momentum=0.99, bn_epsilon=0.001, weight_decay=5e-06, drop_connect_rate=0.2, depth_divisor=8, min_depth=None, use_se=True, input_channels=3, num_classes=1000, model_name='efficientnet', rescale_input=False, data_format='channels_last', dtype='float32')\n",
            "I0612 18:44:23.347803 139997875873664 ssd_efficientnet_bifpn_feature_extractor.py:143] EfficientDet EfficientNet backbone version: efficientnet-b2\n",
            "I0612 18:44:23.348013 139997875873664 ssd_efficientnet_bifpn_feature_extractor.py:144] EfficientDet BiFPN num filters: 112\n",
            "I0612 18:44:23.348078 139997875873664 ssd_efficientnet_bifpn_feature_extractor.py:146] EfficientDet BiFPN num iterations: 5\n",
            "I0612 18:44:23.349936 139997875873664 efficientnet_model.py:147] round_filter input=32 output=32\n",
            "I0612 18:44:23.368069 139997875873664 efficientnet_model.py:147] round_filter input=32 output=32\n",
            "I0612 18:44:23.368274 139997875873664 efficientnet_model.py:147] round_filter input=16 output=16\n",
            "I0612 18:44:23.502368 139997875873664 efficientnet_model.py:147] round_filter input=16 output=16\n",
            "I0612 18:44:23.502568 139997875873664 efficientnet_model.py:147] round_filter input=24 output=24\n",
            "I0612 18:44:23.767194 139997875873664 efficientnet_model.py:147] round_filter input=24 output=24\n",
            "I0612 18:44:23.767391 139997875873664 efficientnet_model.py:147] round_filter input=40 output=48\n",
            "I0612 18:44:24.035937 139997875873664 efficientnet_model.py:147] round_filter input=40 output=48\n",
            "I0612 18:44:24.036145 139997875873664 efficientnet_model.py:147] round_filter input=80 output=88\n",
            "I0612 18:44:24.414882 139997875873664 efficientnet_model.py:147] round_filter input=80 output=88\n",
            "I0612 18:44:24.415084 139997875873664 efficientnet_model.py:147] round_filter input=112 output=120\n",
            "I0612 18:44:24.800986 139997875873664 efficientnet_model.py:147] round_filter input=112 output=120\n",
            "I0612 18:44:24.801194 139997875873664 efficientnet_model.py:147] round_filter input=192 output=208\n",
            "I0612 18:44:25.317877 139997875873664 efficientnet_model.py:147] round_filter input=192 output=208\n",
            "I0612 18:44:25.318098 139997875873664 efficientnet_model.py:147] round_filter input=320 output=352\n",
            "I0612 18:44:25.567747 139997875873664 efficientnet_model.py:147] round_filter input=1280 output=1408\n",
            "I0612 18:44:25.643497 139997875873664 efficientnet_model.py:458] Building model efficientnet with params ModelConfig(width_coefficient=1.1, depth_coefficient=1.2, resolution=260, dropout_rate=0.3, blocks=(BlockConfig(input_filters=32, output_filters=16, kernel_size=3, num_repeat=1, expand_ratio=1, strides=(1, 1), se_ratio=0.25, id_skip=True, fused_conv=False, conv_type='depthwise'), BlockConfig(input_filters=16, output_filters=24, kernel_size=3, num_repeat=2, expand_ratio=6, strides=(2, 2), se_ratio=0.25, id_skip=True, fused_conv=False, conv_type='depthwise'), BlockConfig(input_filters=24, output_filters=40, kernel_size=5, num_repeat=2, expand_ratio=6, strides=(2, 2), se_ratio=0.25, id_skip=True, fused_conv=False, conv_type='depthwise'), BlockConfig(input_filters=40, output_filters=80, kernel_size=3, num_repeat=3, expand_ratio=6, strides=(2, 2), se_ratio=0.25, id_skip=True, fused_conv=False, conv_type='depthwise'), BlockConfig(input_filters=80, output_filters=112, kernel_size=5, num_repeat=3, expand_ratio=6, strides=(1, 1), se_ratio=0.25, id_skip=True, fused_conv=False, conv_type='depthwise'), BlockConfig(input_filters=112, output_filters=192, kernel_size=5, num_repeat=4, expand_ratio=6, strides=(2, 2), se_ratio=0.25, id_skip=True, fused_conv=False, conv_type='depthwise'), BlockConfig(input_filters=192, output_filters=320, kernel_size=3, num_repeat=1, expand_ratio=6, strides=(1, 1), se_ratio=0.25, id_skip=True, fused_conv=False, conv_type='depthwise')), stem_base_filters=32, top_base_filters=1280, activation='simple_swish', batch_norm='default', bn_momentum=0.99, bn_epsilon=0.001, weight_decay=5e-06, drop_connect_rate=0.2, depth_divisor=8, min_depth=None, use_se=True, input_channels=3, num_classes=1000, model_name='efficientnet', rescale_input=False, data_format='channels_last', dtype='float32')\n",
            "I0612 18:44:25.717476 139997875873664 ssd_efficientnet_bifpn_feature_extractor.py:143] EfficientDet EfficientNet backbone version: efficientnet-b3\n",
            "I0612 18:44:25.717698 139997875873664 ssd_efficientnet_bifpn_feature_extractor.py:144] EfficientDet BiFPN num filters: 160\n",
            "I0612 18:44:25.717795 139997875873664 ssd_efficientnet_bifpn_feature_extractor.py:146] EfficientDet BiFPN num iterations: 6\n",
            "I0612 18:44:25.720684 139997875873664 efficientnet_model.py:147] round_filter input=32 output=40\n",
            "I0612 18:44:25.745036 139997875873664 efficientnet_model.py:147] round_filter input=32 output=40\n",
            "I0612 18:44:25.745233 139997875873664 efficientnet_model.py:147] round_filter input=16 output=24\n",
            "I0612 18:44:25.888952 139997875873664 efficientnet_model.py:147] round_filter input=16 output=24\n",
            "I0612 18:44:25.889158 139997875873664 efficientnet_model.py:147] round_filter input=24 output=32\n",
            "I0612 18:44:26.152364 139997875873664 efficientnet_model.py:147] round_filter input=24 output=32\n",
            "I0612 18:44:26.152576 139997875873664 efficientnet_model.py:147] round_filter input=40 output=48\n",
            "I0612 18:44:26.412157 139997875873664 efficientnet_model.py:147] round_filter input=40 output=48\n",
            "I0612 18:44:26.412409 139997875873664 efficientnet_model.py:147] round_filter input=80 output=96\n",
            "I0612 18:44:26.880759 139997875873664 efficientnet_model.py:147] round_filter input=80 output=96\n",
            "I0612 18:44:26.881047 139997875873664 efficientnet_model.py:147] round_filter input=112 output=136\n",
            "I0612 18:44:27.364878 139997875873664 efficientnet_model.py:147] round_filter input=112 output=136\n",
            "I0612 18:44:27.365097 139997875873664 efficientnet_model.py:147] round_filter input=192 output=232\n",
            "I0612 18:44:28.257087 139997875873664 efficientnet_model.py:147] round_filter input=192 output=232\n",
            "I0612 18:44:28.257305 139997875873664 efficientnet_model.py:147] round_filter input=320 output=384\n",
            "I0612 18:44:28.514366 139997875873664 efficientnet_model.py:147] round_filter input=1280 output=1536\n",
            "I0612 18:44:28.584125 139997875873664 efficientnet_model.py:458] Building model efficientnet with params ModelConfig(width_coefficient=1.2, depth_coefficient=1.4, resolution=300, dropout_rate=0.3, blocks=(BlockConfig(input_filters=32, output_filters=16, kernel_size=3, num_repeat=1, expand_ratio=1, strides=(1, 1), se_ratio=0.25, id_skip=True, fused_conv=False, conv_type='depthwise'), BlockConfig(input_filters=16, output_filters=24, kernel_size=3, num_repeat=2, expand_ratio=6, strides=(2, 2), se_ratio=0.25, id_skip=True, fused_conv=False, conv_type='depthwise'), BlockConfig(input_filters=24, output_filters=40, kernel_size=5, num_repeat=2, expand_ratio=6, strides=(2, 2), se_ratio=0.25, id_skip=True, fused_conv=False, conv_type='depthwise'), BlockConfig(input_filters=40, output_filters=80, kernel_size=3, num_repeat=3, expand_ratio=6, strides=(2, 2), se_ratio=0.25, id_skip=True, fused_conv=False, conv_type='depthwise'), BlockConfig(input_filters=80, output_filters=112, kernel_size=5, num_repeat=3, expand_ratio=6, strides=(1, 1), se_ratio=0.25, id_skip=True, fused_conv=False, conv_type='depthwise'), BlockConfig(input_filters=112, output_filters=192, kernel_size=5, num_repeat=4, expand_ratio=6, strides=(2, 2), se_ratio=0.25, id_skip=True, fused_conv=False, conv_type='depthwise'), BlockConfig(input_filters=192, output_filters=320, kernel_size=3, num_repeat=1, expand_ratio=6, strides=(1, 1), se_ratio=0.25, id_skip=True, fused_conv=False, conv_type='depthwise')), stem_base_filters=32, top_base_filters=1280, activation='simple_swish', batch_norm='default', bn_momentum=0.99, bn_epsilon=0.001, weight_decay=5e-06, drop_connect_rate=0.2, depth_divisor=8, min_depth=None, use_se=True, input_channels=3, num_classes=1000, model_name='efficientnet', rescale_input=False, data_format='channels_last', dtype='float32')\n",
            "I0612 18:44:28.660053 139997875873664 ssd_efficientnet_bifpn_feature_extractor.py:143] EfficientDet EfficientNet backbone version: efficientnet-b4\n",
            "I0612 18:44:28.660269 139997875873664 ssd_efficientnet_bifpn_feature_extractor.py:144] EfficientDet BiFPN num filters: 224\n",
            "I0612 18:44:28.660334 139997875873664 ssd_efficientnet_bifpn_feature_extractor.py:146] EfficientDet BiFPN num iterations: 7\n",
            "I0612 18:44:28.662198 139997875873664 efficientnet_model.py:147] round_filter input=32 output=48\n",
            "I0612 18:44:28.684119 139997875873664 efficientnet_model.py:147] round_filter input=32 output=48\n",
            "I0612 18:44:28.684365 139997875873664 efficientnet_model.py:147] round_filter input=16 output=24\n",
            "I0612 18:44:28.830278 139997875873664 efficientnet_model.py:147] round_filter input=16 output=24\n",
            "I0612 18:44:28.830537 139997875873664 efficientnet_model.py:147] round_filter input=24 output=32\n",
            "I0612 18:44:29.189656 139997875873664 efficientnet_model.py:147] round_filter input=24 output=32\n",
            "I0612 18:44:29.189895 139997875873664 efficientnet_model.py:147] round_filter input=40 output=56\n",
            "I0612 18:44:29.568737 139997875873664 efficientnet_model.py:147] round_filter input=40 output=56\n",
            "I0612 18:44:29.568962 139997875873664 efficientnet_model.py:147] round_filter input=80 output=112\n",
            "I0612 18:44:30.137710 139997875873664 efficientnet_model.py:147] round_filter input=80 output=112\n",
            "I0612 18:44:30.137947 139997875873664 efficientnet_model.py:147] round_filter input=112 output=160\n",
            "I0612 18:44:30.736213 139997875873664 efficientnet_model.py:147] round_filter input=112 output=160\n",
            "I0612 18:44:30.736441 139997875873664 efficientnet_model.py:147] round_filter input=192 output=272\n",
            "I0612 18:44:31.727554 139997875873664 efficientnet_model.py:147] round_filter input=192 output=272\n",
            "I0612 18:44:31.727811 139997875873664 efficientnet_model.py:147] round_filter input=320 output=448\n",
            "I0612 18:44:32.034723 139997875873664 efficientnet_model.py:147] round_filter input=1280 output=1792\n",
            "I0612 18:44:32.107934 139997875873664 efficientnet_model.py:458] Building model efficientnet with params ModelConfig(width_coefficient=1.4, depth_coefficient=1.8, resolution=380, dropout_rate=0.4, blocks=(BlockConfig(input_filters=32, output_filters=16, kernel_size=3, num_repeat=1, expand_ratio=1, strides=(1, 1), se_ratio=0.25, id_skip=True, fused_conv=False, conv_type='depthwise'), BlockConfig(input_filters=16, output_filters=24, kernel_size=3, num_repeat=2, expand_ratio=6, strides=(2, 2), se_ratio=0.25, id_skip=True, fused_conv=False, conv_type='depthwise'), BlockConfig(input_filters=24, output_filters=40, kernel_size=5, num_repeat=2, expand_ratio=6, strides=(2, 2), se_ratio=0.25, id_skip=True, fused_conv=False, conv_type='depthwise'), BlockConfig(input_filters=40, output_filters=80, kernel_size=3, num_repeat=3, expand_ratio=6, strides=(2, 2), se_ratio=0.25, id_skip=True, fused_conv=False, conv_type='depthwise'), BlockConfig(input_filters=80, output_filters=112, kernel_size=5, num_repeat=3, expand_ratio=6, strides=(1, 1), se_ratio=0.25, id_skip=True, fused_conv=False, conv_type='depthwise'), BlockConfig(input_filters=112, output_filters=192, kernel_size=5, num_repeat=4, expand_ratio=6, strides=(2, 2), se_ratio=0.25, id_skip=True, fused_conv=False, conv_type='depthwise'), BlockConfig(input_filters=192, output_filters=320, kernel_size=3, num_repeat=1, expand_ratio=6, strides=(1, 1), se_ratio=0.25, id_skip=True, fused_conv=False, conv_type='depthwise')), stem_base_filters=32, top_base_filters=1280, activation='simple_swish', batch_norm='default', bn_momentum=0.99, bn_epsilon=0.001, weight_decay=5e-06, drop_connect_rate=0.2, depth_divisor=8, min_depth=None, use_se=True, input_channels=3, num_classes=1000, model_name='efficientnet', rescale_input=False, data_format='channels_last', dtype='float32')\n",
            "I0612 18:44:32.200319 139997875873664 ssd_efficientnet_bifpn_feature_extractor.py:143] EfficientDet EfficientNet backbone version: efficientnet-b5\n",
            "I0612 18:44:32.200536 139997875873664 ssd_efficientnet_bifpn_feature_extractor.py:144] EfficientDet BiFPN num filters: 288\n",
            "I0612 18:44:32.200636 139997875873664 ssd_efficientnet_bifpn_feature_extractor.py:146] EfficientDet BiFPN num iterations: 7\n",
            "I0612 18:44:32.202571 139997875873664 efficientnet_model.py:147] round_filter input=32 output=48\n",
            "I0612 18:44:32.219986 139997875873664 efficientnet_model.py:147] round_filter input=32 output=48\n",
            "I0612 18:44:32.220199 139997875873664 efficientnet_model.py:147] round_filter input=16 output=24\n",
            "I0612 18:44:32.426502 139997875873664 efficientnet_model.py:147] round_filter input=16 output=24\n",
            "I0612 18:44:32.426728 139997875873664 efficientnet_model.py:147] round_filter input=24 output=40\n",
            "I0612 18:44:32.871665 139997875873664 efficientnet_model.py:147] round_filter input=24 output=40\n",
            "I0612 18:44:32.871912 139997875873664 efficientnet_model.py:147] round_filter input=40 output=64\n",
            "I0612 18:44:33.320178 139997875873664 efficientnet_model.py:147] round_filter input=40 output=64\n",
            "I0612 18:44:33.320506 139997875873664 efficientnet_model.py:147] round_filter input=80 output=128\n",
            "I0612 18:44:34.249928 139997875873664 efficientnet_model.py:147] round_filter input=80 output=128\n",
            "I0612 18:44:34.250176 139997875873664 efficientnet_model.py:147] round_filter input=112 output=176\n",
            "I0612 18:44:34.984972 139997875873664 efficientnet_model.py:147] round_filter input=112 output=176\n",
            "I0612 18:44:34.985206 139997875873664 efficientnet_model.py:147] round_filter input=192 output=304\n",
            "I0612 18:44:36.118210 139997875873664 efficientnet_model.py:147] round_filter input=192 output=304\n",
            "I0612 18:44:36.118433 139997875873664 efficientnet_model.py:147] round_filter input=320 output=512\n",
            "I0612 18:44:36.670604 139997875873664 efficientnet_model.py:147] round_filter input=1280 output=2048\n",
            "I0612 18:44:36.754796 139997875873664 efficientnet_model.py:458] Building model efficientnet with params ModelConfig(width_coefficient=1.6, depth_coefficient=2.2, resolution=456, dropout_rate=0.4, blocks=(BlockConfig(input_filters=32, output_filters=16, kernel_size=3, num_repeat=1, expand_ratio=1, strides=(1, 1), se_ratio=0.25, id_skip=True, fused_conv=False, conv_type='depthwise'), BlockConfig(input_filters=16, output_filters=24, kernel_size=3, num_repeat=2, expand_ratio=6, strides=(2, 2), se_ratio=0.25, id_skip=True, fused_conv=False, conv_type='depthwise'), BlockConfig(input_filters=24, output_filters=40, kernel_size=5, num_repeat=2, expand_ratio=6, strides=(2, 2), se_ratio=0.25, id_skip=True, fused_conv=False, conv_type='depthwise'), BlockConfig(input_filters=40, output_filters=80, kernel_size=3, num_repeat=3, expand_ratio=6, strides=(2, 2), se_ratio=0.25, id_skip=True, fused_conv=False, conv_type='depthwise'), BlockConfig(input_filters=80, output_filters=112, kernel_size=5, num_repeat=3, expand_ratio=6, strides=(1, 1), se_ratio=0.25, id_skip=True, fused_conv=False, conv_type='depthwise'), BlockConfig(input_filters=112, output_filters=192, kernel_size=5, num_repeat=4, expand_ratio=6, strides=(2, 2), se_ratio=0.25, id_skip=True, fused_conv=False, conv_type='depthwise'), BlockConfig(input_filters=192, output_filters=320, kernel_size=3, num_repeat=1, expand_ratio=6, strides=(1, 1), se_ratio=0.25, id_skip=True, fused_conv=False, conv_type='depthwise')), stem_base_filters=32, top_base_filters=1280, activation='simple_swish', batch_norm='default', bn_momentum=0.99, bn_epsilon=0.001, weight_decay=5e-06, drop_connect_rate=0.2, depth_divisor=8, min_depth=None, use_se=True, input_channels=3, num_classes=1000, model_name='efficientnet', rescale_input=False, data_format='channels_last', dtype='float32')\n",
            "I0612 18:44:36.867561 139997875873664 ssd_efficientnet_bifpn_feature_extractor.py:143] EfficientDet EfficientNet backbone version: efficientnet-b6\n",
            "I0612 18:44:36.867770 139997875873664 ssd_efficientnet_bifpn_feature_extractor.py:144] EfficientDet BiFPN num filters: 384\n",
            "I0612 18:44:36.867851 139997875873664 ssd_efficientnet_bifpn_feature_extractor.py:146] EfficientDet BiFPN num iterations: 8\n",
            "I0612 18:44:36.869759 139997875873664 efficientnet_model.py:147] round_filter input=32 output=56\n",
            "I0612 18:44:36.892452 139997875873664 efficientnet_model.py:147] round_filter input=32 output=56\n",
            "I0612 18:44:36.892663 139997875873664 efficientnet_model.py:147] round_filter input=16 output=32\n",
            "I0612 18:44:37.107890 139997875873664 efficientnet_model.py:147] round_filter input=16 output=32\n",
            "I0612 18:44:37.108109 139997875873664 efficientnet_model.py:147] round_filter input=24 output=40\n",
            "I0612 18:44:37.641314 139997875873664 efficientnet_model.py:147] round_filter input=24 output=40\n",
            "I0612 18:44:37.641536 139997875873664 efficientnet_model.py:147] round_filter input=40 output=72\n",
            "I0612 18:44:38.181147 139997875873664 efficientnet_model.py:147] round_filter input=40 output=72\n",
            "I0612 18:44:38.181355 139997875873664 efficientnet_model.py:147] round_filter input=80 output=144\n",
            "I0612 18:44:38.952009 139997875873664 efficientnet_model.py:147] round_filter input=80 output=144\n",
            "I0612 18:44:38.952268 139997875873664 efficientnet_model.py:147] round_filter input=112 output=200\n",
            "I0612 18:44:40.072090 139997875873664 efficientnet_model.py:147] round_filter input=112 output=200\n",
            "I0612 18:44:40.072313 139997875873664 efficientnet_model.py:147] round_filter input=192 output=344\n",
            "I0612 18:44:41.638513 139997875873664 efficientnet_model.py:147] round_filter input=192 output=344\n",
            "I0612 18:44:41.638782 139997875873664 efficientnet_model.py:147] round_filter input=320 output=576\n",
            "I0612 18:44:42.263755 139997875873664 efficientnet_model.py:147] round_filter input=1280 output=2304\n",
            "I0612 18:44:42.350742 139997875873664 efficientnet_model.py:458] Building model efficientnet with params ModelConfig(width_coefficient=1.8, depth_coefficient=2.6, resolution=528, dropout_rate=0.5, blocks=(BlockConfig(input_filters=32, output_filters=16, kernel_size=3, num_repeat=1, expand_ratio=1, strides=(1, 1), se_ratio=0.25, id_skip=True, fused_conv=False, conv_type='depthwise'), BlockConfig(input_filters=16, output_filters=24, kernel_size=3, num_repeat=2, expand_ratio=6, strides=(2, 2), se_ratio=0.25, id_skip=True, fused_conv=False, conv_type='depthwise'), BlockConfig(input_filters=24, output_filters=40, kernel_size=5, num_repeat=2, expand_ratio=6, strides=(2, 2), se_ratio=0.25, id_skip=True, fused_conv=False, conv_type='depthwise'), BlockConfig(input_filters=40, output_filters=80, kernel_size=3, num_repeat=3, expand_ratio=6, strides=(2, 2), se_ratio=0.25, id_skip=True, fused_conv=False, conv_type='depthwise'), BlockConfig(input_filters=80, output_filters=112, kernel_size=5, num_repeat=3, expand_ratio=6, strides=(1, 1), se_ratio=0.25, id_skip=True, fused_conv=False, conv_type='depthwise'), BlockConfig(input_filters=112, output_filters=192, kernel_size=5, num_repeat=4, expand_ratio=6, strides=(2, 2), se_ratio=0.25, id_skip=True, fused_conv=False, conv_type='depthwise'), BlockConfig(input_filters=192, output_filters=320, kernel_size=3, num_repeat=1, expand_ratio=6, strides=(1, 1), se_ratio=0.25, id_skip=True, fused_conv=False, conv_type='depthwise')), stem_base_filters=32, top_base_filters=1280, activation='simple_swish', batch_norm='default', bn_momentum=0.99, bn_epsilon=0.001, weight_decay=5e-06, drop_connect_rate=0.2, depth_divisor=8, min_depth=None, use_se=True, input_channels=3, num_classes=1000, model_name='efficientnet', rescale_input=False, data_format='channels_last', dtype='float32')\n",
            "I0612 18:44:42.469521 139997875873664 ssd_efficientnet_bifpn_feature_extractor.py:143] EfficientDet EfficientNet backbone version: efficientnet-b7\n",
            "I0612 18:44:42.469745 139997875873664 ssd_efficientnet_bifpn_feature_extractor.py:144] EfficientDet BiFPN num filters: 384\n",
            "I0612 18:44:42.469855 139997875873664 ssd_efficientnet_bifpn_feature_extractor.py:146] EfficientDet BiFPN num iterations: 8\n",
            "I0612 18:44:42.471848 139997875873664 efficientnet_model.py:147] round_filter input=32 output=64\n",
            "I0612 18:44:42.489806 139997875873664 efficientnet_model.py:147] round_filter input=32 output=64\n",
            "I0612 18:44:42.490035 139997875873664 efficientnet_model.py:147] round_filter input=16 output=32\n",
            "I0612 18:44:42.776688 139997875873664 efficientnet_model.py:147] round_filter input=16 output=32\n",
            "I0612 18:44:42.776910 139997875873664 efficientnet_model.py:147] round_filter input=24 output=48\n",
            "I0612 18:44:43.406760 139997875873664 efficientnet_model.py:147] round_filter input=24 output=48\n",
            "I0612 18:44:43.407002 139997875873664 efficientnet_model.py:147] round_filter input=40 output=80\n",
            "I0612 18:44:44.065411 139997875873664 efficientnet_model.py:147] round_filter input=40 output=80\n",
            "I0612 18:44:44.065637 139997875873664 efficientnet_model.py:147] round_filter input=80 output=160\n",
            "I0612 18:44:45.070374 139997875873664 efficientnet_model.py:147] round_filter input=80 output=160\n",
            "I0612 18:44:45.070600 139997875873664 efficientnet_model.py:147] round_filter input=112 output=224\n",
            "I0612 18:44:46.167570 139997875873664 efficientnet_model.py:147] round_filter input=112 output=224\n",
            "I0612 18:44:46.167777 139997875873664 efficientnet_model.py:147] round_filter input=192 output=384\n",
            "I0612 18:44:48.334479 139997875873664 efficientnet_model.py:147] round_filter input=192 output=384\n",
            "I0612 18:44:48.334702 139997875873664 efficientnet_model.py:147] round_filter input=320 output=640\n",
            "I0612 18:44:49.217856 139997875873664 efficientnet_model.py:147] round_filter input=1280 output=2560\n",
            "I0612 18:44:49.315141 139997875873664 efficientnet_model.py:458] Building model efficientnet with params ModelConfig(width_coefficient=2.0, depth_coefficient=3.1, resolution=600, dropout_rate=0.5, blocks=(BlockConfig(input_filters=32, output_filters=16, kernel_size=3, num_repeat=1, expand_ratio=1, strides=(1, 1), se_ratio=0.25, id_skip=True, fused_conv=False, conv_type='depthwise'), BlockConfig(input_filters=16, output_filters=24, kernel_size=3, num_repeat=2, expand_ratio=6, strides=(2, 2), se_ratio=0.25, id_skip=True, fused_conv=False, conv_type='depthwise'), BlockConfig(input_filters=24, output_filters=40, kernel_size=5, num_repeat=2, expand_ratio=6, strides=(2, 2), se_ratio=0.25, id_skip=True, fused_conv=False, conv_type='depthwise'), BlockConfig(input_filters=40, output_filters=80, kernel_size=3, num_repeat=3, expand_ratio=6, strides=(2, 2), se_ratio=0.25, id_skip=True, fused_conv=False, conv_type='depthwise'), BlockConfig(input_filters=80, output_filters=112, kernel_size=5, num_repeat=3, expand_ratio=6, strides=(1, 1), se_ratio=0.25, id_skip=True, fused_conv=False, conv_type='depthwise'), BlockConfig(input_filters=112, output_filters=192, kernel_size=5, num_repeat=4, expand_ratio=6, strides=(2, 2), se_ratio=0.25, id_skip=True, fused_conv=False, conv_type='depthwise'), BlockConfig(input_filters=192, output_filters=320, kernel_size=3, num_repeat=1, expand_ratio=6, strides=(1, 1), se_ratio=0.25, id_skip=True, fused_conv=False, conv_type='depthwise')), stem_base_filters=32, top_base_filters=1280, activation='simple_swish', batch_norm='default', bn_momentum=0.99, bn_epsilon=0.001, weight_decay=5e-06, drop_connect_rate=0.2, depth_divisor=8, min_depth=None, use_se=True, input_channels=3, num_classes=1000, model_name='efficientnet', rescale_input=False, data_format='channels_last', dtype='float32')\n",
            "INFO:tensorflow:time(__main__.ModelBuilderTF2Test.test_create_ssd_models_from_config): 30.62s\n",
            "I0612 18:44:49.469101 139997875873664 test_util.py:2189] time(__main__.ModelBuilderTF2Test.test_create_ssd_models_from_config): 30.62s\n",
            "[       OK ] ModelBuilderTF2Test.test_create_ssd_models_from_config\n",
            "[ RUN      ] ModelBuilderTF2Test.test_invalid_faster_rcnn_batchnorm_update\n",
            "INFO:tensorflow:time(__main__.ModelBuilderTF2Test.test_invalid_faster_rcnn_batchnorm_update): 0.0s\n",
            "I0612 18:44:49.476770 139997875873664 test_util.py:2189] time(__main__.ModelBuilderTF2Test.test_invalid_faster_rcnn_batchnorm_update): 0.0s\n",
            "[       OK ] ModelBuilderTF2Test.test_invalid_faster_rcnn_batchnorm_update\n",
            "[ RUN      ] ModelBuilderTF2Test.test_invalid_first_stage_nms_iou_threshold\n",
            "INFO:tensorflow:time(__main__.ModelBuilderTF2Test.test_invalid_first_stage_nms_iou_threshold): 0.0s\n",
            "I0612 18:44:49.478862 139997875873664 test_util.py:2189] time(__main__.ModelBuilderTF2Test.test_invalid_first_stage_nms_iou_threshold): 0.0s\n",
            "[       OK ] ModelBuilderTF2Test.test_invalid_first_stage_nms_iou_threshold\n",
            "[ RUN      ] ModelBuilderTF2Test.test_invalid_model_config_proto\n",
            "INFO:tensorflow:time(__main__.ModelBuilderTF2Test.test_invalid_model_config_proto): 0.0s\n",
            "I0612 18:44:49.479423 139997875873664 test_util.py:2189] time(__main__.ModelBuilderTF2Test.test_invalid_model_config_proto): 0.0s\n",
            "[       OK ] ModelBuilderTF2Test.test_invalid_model_config_proto\n",
            "[ RUN      ] ModelBuilderTF2Test.test_invalid_second_stage_batch_size\n",
            "INFO:tensorflow:time(__main__.ModelBuilderTF2Test.test_invalid_second_stage_batch_size): 0.0s\n",
            "I0612 18:44:49.481208 139997875873664 test_util.py:2189] time(__main__.ModelBuilderTF2Test.test_invalid_second_stage_batch_size): 0.0s\n",
            "[       OK ] ModelBuilderTF2Test.test_invalid_second_stage_batch_size\n",
            "[ RUN      ] ModelBuilderTF2Test.test_session\n",
            "[  SKIPPED ] ModelBuilderTF2Test.test_session\n",
            "[ RUN      ] ModelBuilderTF2Test.test_unknown_faster_rcnn_feature_extractor\n",
            "INFO:tensorflow:time(__main__.ModelBuilderTF2Test.test_unknown_faster_rcnn_feature_extractor): 0.0s\n",
            "I0612 18:44:49.482741 139997875873664 test_util.py:2189] time(__main__.ModelBuilderTF2Test.test_unknown_faster_rcnn_feature_extractor): 0.0s\n",
            "[       OK ] ModelBuilderTF2Test.test_unknown_faster_rcnn_feature_extractor\n",
            "[ RUN      ] ModelBuilderTF2Test.test_unknown_meta_architecture\n",
            "INFO:tensorflow:time(__main__.ModelBuilderTF2Test.test_unknown_meta_architecture): 0.0s\n",
            "I0612 18:44:49.483228 139997875873664 test_util.py:2189] time(__main__.ModelBuilderTF2Test.test_unknown_meta_architecture): 0.0s\n",
            "[       OK ] ModelBuilderTF2Test.test_unknown_meta_architecture\n",
            "[ RUN      ] ModelBuilderTF2Test.test_unknown_ssd_feature_extractor\n",
            "INFO:tensorflow:time(__main__.ModelBuilderTF2Test.test_unknown_ssd_feature_extractor): 0.0s\n",
            "I0612 18:44:49.484323 139997875873664 test_util.py:2189] time(__main__.ModelBuilderTF2Test.test_unknown_ssd_feature_extractor): 0.0s\n",
            "[       OK ] ModelBuilderTF2Test.test_unknown_ssd_feature_extractor\n",
            "----------------------------------------------------------------------\n",
            "Ran 24 tests in 35.420s\n",
            "\n",
            "OK (skipped=1)\n"
          ],
          "name": "stdout"
        }
      ]
    },
    {
      "cell_type": "markdown",
      "metadata": {
        "id": "5x_vhSUJsdPx"
      },
      "source": [
        "## Download model"
      ]
    },
    {
      "cell_type": "code",
      "metadata": {
        "id": "X8UqgfoTse-6",
        "colab": {
          "base_uri": "https://localhost:8080/"
        },
        "outputId": "352eb76a-feb6-4c65-b9fe-8bda9f4ade0c"
      },
      "source": [
        "!wget http://download.tensorflow.org/models/object_detection/tf2/20200711/ssd_mobilenet_v2_fpnlite_640x640_coco17_tpu-8.tar.gz\n",
        "!tar -xf ssd_mobilenet_v2_fpnlite_640x640_coco17_tpu-8.tar.gz\n",
        "!rm ssd_mobilenet_v2_fpnlite_640x640_coco17_tpu-8.tar.gz"
      ],
      "execution_count": null,
      "outputs": [
        {
          "output_type": "stream",
          "text": [
            "--2021-06-12 18:44:50--  http://download.tensorflow.org/models/object_detection/tf2/20200711/ssd_mobilenet_v2_fpnlite_640x640_coco17_tpu-8.tar.gz\n",
            "Resolving download.tensorflow.org (download.tensorflow.org)... 74.125.142.128, 2607:f8b0:400e:c08::80\n",
            "Connecting to download.tensorflow.org (download.tensorflow.org)|74.125.142.128|:80... connected.\n",
            "HTTP request sent, awaiting response... 200 OK\n",
            "Length: 20518283 (20M) [application/x-tar]\n",
            "Saving to: ‘ssd_mobilenet_v2_fpnlite_640x640_coco17_tpu-8.tar.gz’\n",
            "\n",
            "ssd_mobilenet_v2_fp 100%[===================>]  19.57M  95.3MB/s    in 0.2s    \n",
            "\n",
            "2021-06-12 18:44:50 (95.3 MB/s) - ‘ssd_mobilenet_v2_fpnlite_640x640_coco17_tpu-8.tar.gz’ saved [20518283/20518283]\n",
            "\n"
          ],
          "name": "stdout"
        }
      ]
    },
    {
      "cell_type": "code",
      "metadata": {
        "id": "wLIIKjurt00h",
        "colab": {
          "base_uri": "https://localhost:8080/"
        },
        "outputId": "c4fb75ac-d077-4852-d84f-01a9652b8711"
      },
      "source": [
        "!ls -lah ssd_mobilenet_v2_fpnlite_640x640_coco17_tpu-8/saved_model"
      ],
      "execution_count": null,
      "outputs": [
        {
          "output_type": "stream",
          "text": [
            "total 9.3M\n",
            "drwxr-x--- 3 345018 89939 4.0K Jul 10  2020 .\n",
            "drwxr-x--- 4 345018 89939 4.0K Jul 11  2020 ..\n",
            "-rw-r----- 1 345018 89939 9.2M Jul 10  2020 saved_model.pb\n",
            "drwxr-x--- 2 345018 89939 4.0K Jul 10  2020 variables\n"
          ],
          "name": "stdout"
        }
      ]
    },
    {
      "cell_type": "markdown",
      "metadata": {
        "id": "5KmLY3e5iNST"
      },
      "source": [
        "## Generate TensorFlow Lite model"
      ]
    },
    {
      "cell_type": "markdown",
      "metadata": {
        "id": "x8gzjjkiuUSw"
      },
      "source": [
        "### 1. Export a TFLite compatible model graph "
      ]
    },
    {
      "cell_type": "code",
      "metadata": {
        "id": "AMzpLkyfsrB9",
        "colab": {
          "base_uri": "https://localhost:8080/"
        },
        "outputId": "39bd60f0-6ce6-49ab-e437-5483b8f7bfce"
      },
      "source": [
        "!python /content/models/research/object_detection/export_tflite_graph_tf2.py \\\n",
        "    --trained_checkpoint_dir ssd_mobilenet_v2_fpnlite_640x640_coco17_tpu-8/checkpoint \\\n",
        "    --output_directory `pwd` \\\n",
        "    --pipeline_config_path ssd_mobilenet_v2_fpnlite_640x640_coco17_tpu-8/pipeline.config"
      ],
      "execution_count": null,
      "outputs": [
        {
          "output_type": "stream",
          "text": [
            "2021-06-12 18:46:50.073838: E tensorflow/core/lib/monitoring/collection_registry.cc:77] Cannot register 2 metrics with the same name: /tensorflow/core/saved_model/write/count\n",
            "2021-06-12 18:46:50.073921: E tensorflow/core/lib/monitoring/collection_registry.cc:77] Cannot register 2 metrics with the same name: /tensorflow/core/saved_model/read/count\n",
            "2021-06-12 18:46:50.073936: E tensorflow/core/lib/monitoring/collection_registry.cc:77] Cannot register 2 metrics with the same name: /tensorflow/core/saved_model/write/api\n",
            "2021-06-12 18:46:50.073948: E tensorflow/core/lib/monitoring/collection_registry.cc:77] Cannot register 2 metrics with the same name: /tensorflow/core/saved_model/read/api\n",
            "2021-06-12 18:46:52.191456: E tensorflow/stream_executor/cuda/cuda_driver.cc:271] failed call to cuInit: CUDA_ERROR_NO_DEVICE: no CUDA-capable device is detected\n",
            "2021-06-12 18:46:52.191511: I tensorflow/stream_executor/cuda/cuda_diagnostics.cc:156] kernel driver does not appear to be running on this host (f7b37b1d0809): /proc/driver/nvidia/version does not exist\n",
            "2021-06-12 18:46:52.200004: I tensorflow/core/platform/cpu_feature_guard.cc:142] This TensorFlow binary is optimized with oneAPI Deep Neural Network Library (oneDNN) to use the following CPU instructions in performance-critical operations:  AVX2 FMA\n",
            "To enable them in other operations, rebuild TensorFlow with the appropriate compiler flags.\n",
            "WARNING:tensorflow:Skipping full serialization of Keras layer <object_detection.meta_architectures.ssd_meta_arch.SSDMetaArch object at 0x7f0cdf5f6850>, because it is not built.\n",
            "W0612 18:47:03.005205 139694916016000 save_impl.py:77] Skipping full serialization of Keras layer <object_detection.meta_architectures.ssd_meta_arch.SSDMetaArch object at 0x7f0cdf5f6850>, because it is not built.\n",
            "WARNING:tensorflow:Skipping full serialization of Keras layer <tensorflow.python.keras.layers.convolutional.SeparableConv2D object at 0x7f0cdb21ed90>, because it is not built.\n",
            "W0612 18:47:03.169257 139694916016000 save_impl.py:77] Skipping full serialization of Keras layer <tensorflow.python.keras.layers.convolutional.SeparableConv2D object at 0x7f0cdb21ed90>, because it is not built.\n",
            "WARNING:tensorflow:Skipping full serialization of Keras layer <object_detection.core.freezable_batch_norm.FreezableBatchNorm object at 0x7f0cda795f90>, because it is not built.\n",
            "W0612 18:47:03.169529 139694916016000 save_impl.py:77] Skipping full serialization of Keras layer <object_detection.core.freezable_batch_norm.FreezableBatchNorm object at 0x7f0cda795f90>, because it is not built.\n",
            "WARNING:tensorflow:Skipping full serialization of Keras layer <tensorflow.python.keras.layers.core.Lambda object at 0x7f0cdb0b7650>, because it is not built.\n",
            "W0612 18:47:03.169667 139694916016000 save_impl.py:77] Skipping full serialization of Keras layer <tensorflow.python.keras.layers.core.Lambda object at 0x7f0cdb0b7650>, because it is not built.\n",
            "WARNING:tensorflow:Skipping full serialization of Keras layer <tensorflow.python.keras.layers.convolutional.SeparableConv2D object at 0x7f0cda970890>, because it is not built.\n",
            "W0612 18:47:03.169780 139694916016000 save_impl.py:77] Skipping full serialization of Keras layer <tensorflow.python.keras.layers.convolutional.SeparableConv2D object at 0x7f0cda970890>, because it is not built.\n",
            "WARNING:tensorflow:Skipping full serialization of Keras layer <object_detection.core.freezable_batch_norm.FreezableBatchNorm object at 0x7f0cdafaf110>, because it is not built.\n",
            "W0612 18:47:03.169903 139694916016000 save_impl.py:77] Skipping full serialization of Keras layer <object_detection.core.freezable_batch_norm.FreezableBatchNorm object at 0x7f0cdafaf110>, because it is not built.\n",
            "WARNING:tensorflow:Skipping full serialization of Keras layer <tensorflow.python.keras.layers.core.Lambda object at 0x7f0cda780e10>, because it is not built.\n",
            "W0612 18:47:03.170012 139694916016000 save_impl.py:77] Skipping full serialization of Keras layer <tensorflow.python.keras.layers.core.Lambda object at 0x7f0cda780e10>, because it is not built.\n",
            "WARNING:tensorflow:Skipping full serialization of Keras layer <tensorflow.python.keras.layers.convolutional.SeparableConv2D object at 0x7f0cda970e50>, because it is not built.\n",
            "W0612 18:47:03.170120 139694916016000 save_impl.py:77] Skipping full serialization of Keras layer <tensorflow.python.keras.layers.convolutional.SeparableConv2D object at 0x7f0cda970e50>, because it is not built.\n",
            "WARNING:tensorflow:Skipping full serialization of Keras layer <object_detection.core.freezable_batch_norm.FreezableBatchNorm object at 0x7f0cda780150>, because it is not built.\n",
            "W0612 18:47:03.170246 139694916016000 save_impl.py:77] Skipping full serialization of Keras layer <object_detection.core.freezable_batch_norm.FreezableBatchNorm object at 0x7f0cda780150>, because it is not built.\n",
            "WARNING:tensorflow:Skipping full serialization of Keras layer <tensorflow.python.keras.layers.core.Lambda object at 0x7f0cdaaa3650>, because it is not built.\n",
            "W0612 18:47:03.170353 139694916016000 save_impl.py:77] Skipping full serialization of Keras layer <tensorflow.python.keras.layers.core.Lambda object at 0x7f0cdaaa3650>, because it is not built.\n",
            "WARNING:tensorflow:Skipping full serialization of Keras layer <tensorflow.python.keras.layers.convolutional.SeparableConv2D object at 0x7f0cdacce310>, because it is not built.\n",
            "W0612 18:47:03.170466 139694916016000 save_impl.py:77] Skipping full serialization of Keras layer <tensorflow.python.keras.layers.convolutional.SeparableConv2D object at 0x7f0cdacce310>, because it is not built.\n",
            "WARNING:tensorflow:Skipping full serialization of Keras layer <object_detection.core.freezable_batch_norm.FreezableBatchNorm object at 0x7f0cda93f910>, because it is not built.\n",
            "W0612 18:47:03.170570 139694916016000 save_impl.py:77] Skipping full serialization of Keras layer <object_detection.core.freezable_batch_norm.FreezableBatchNorm object at 0x7f0cda93f910>, because it is not built.\n",
            "WARNING:tensorflow:Skipping full serialization of Keras layer <tensorflow.python.keras.layers.core.Lambda object at 0x7f0cda8061d0>, because it is not built.\n",
            "W0612 18:47:03.170681 139694916016000 save_impl.py:77] Skipping full serialization of Keras layer <tensorflow.python.keras.layers.core.Lambda object at 0x7f0cda8061d0>, because it is not built.\n",
            "WARNING:tensorflow:Skipping full serialization of Keras layer <object_detection.core.freezable_batch_norm.FreezableBatchNorm object at 0x7f0cdb1bc1d0>, because it is not built.\n",
            "W0612 18:47:03.170783 139694916016000 save_impl.py:77] Skipping full serialization of Keras layer <object_detection.core.freezable_batch_norm.FreezableBatchNorm object at 0x7f0cdb1bc1d0>, because it is not built.\n",
            "WARNING:tensorflow:Skipping full serialization of Keras layer <tensorflow.python.keras.layers.core.Lambda object at 0x7f0cda7c5450>, because it is not built.\n",
            "W0612 18:47:03.170897 139694916016000 save_impl.py:77] Skipping full serialization of Keras layer <tensorflow.python.keras.layers.core.Lambda object at 0x7f0cda7c5450>, because it is not built.\n",
            "WARNING:tensorflow:Skipping full serialization of Keras layer <object_detection.core.freezable_batch_norm.FreezableBatchNorm object at 0x7f0cdaaa3450>, because it is not built.\n",
            "W0612 18:47:03.171001 139694916016000 save_impl.py:77] Skipping full serialization of Keras layer <object_detection.core.freezable_batch_norm.FreezableBatchNorm object at 0x7f0cdaaa3450>, because it is not built.\n",
            "WARNING:tensorflow:Skipping full serialization of Keras layer <tensorflow.python.keras.layers.core.Lambda object at 0x7f0cda7c56d0>, because it is not built.\n",
            "W0612 18:47:03.171102 139694916016000 save_impl.py:77] Skipping full serialization of Keras layer <tensorflow.python.keras.layers.core.Lambda object at 0x7f0cda7c56d0>, because it is not built.\n",
            "WARNING:tensorflow:Skipping full serialization of Keras layer <object_detection.core.freezable_batch_norm.FreezableBatchNorm object at 0x7f0cda82b810>, because it is not built.\n",
            "W0612 18:47:03.171203 139694916016000 save_impl.py:77] Skipping full serialization of Keras layer <object_detection.core.freezable_batch_norm.FreezableBatchNorm object at 0x7f0cda82b810>, because it is not built.\n",
            "WARNING:tensorflow:Skipping full serialization of Keras layer <tensorflow.python.keras.layers.core.Lambda object at 0x7f0cda82bad0>, because it is not built.\n",
            "W0612 18:47:03.171305 139694916016000 save_impl.py:77] Skipping full serialization of Keras layer <tensorflow.python.keras.layers.core.Lambda object at 0x7f0cda82bad0>, because it is not built.\n",
            "WARNING:tensorflow:Skipping full serialization of Keras layer <object_detection.core.freezable_batch_norm.FreezableBatchNorm object at 0x7f0cda82b790>, because it is not built.\n",
            "W0612 18:47:03.171407 139694916016000 save_impl.py:77] Skipping full serialization of Keras layer <object_detection.core.freezable_batch_norm.FreezableBatchNorm object at 0x7f0cda82b790>, because it is not built.\n",
            "WARNING:tensorflow:Skipping full serialization of Keras layer <tensorflow.python.keras.layers.core.Lambda object at 0x7f0cdad56c90>, because it is not built.\n",
            "W0612 18:47:03.171508 139694916016000 save_impl.py:77] Skipping full serialization of Keras layer <tensorflow.python.keras.layers.core.Lambda object at 0x7f0cdad56c90>, because it is not built.\n",
            "WARNING:tensorflow:Skipping full serialization of Keras layer <object_detection.core.freezable_batch_norm.FreezableBatchNorm object at 0x7f0cdb1bc210>, because it is not built.\n",
            "W0612 18:47:03.171620 139694916016000 save_impl.py:77] Skipping full serialization of Keras layer <object_detection.core.freezable_batch_norm.FreezableBatchNorm object at 0x7f0cdb1bc210>, because it is not built.\n",
            "WARNING:tensorflow:Skipping full serialization of Keras layer <tensorflow.python.keras.layers.core.Lambda object at 0x7f0cda7a3990>, because it is not built.\n",
            "W0612 18:47:03.171726 139694916016000 save_impl.py:77] Skipping full serialization of Keras layer <tensorflow.python.keras.layers.core.Lambda object at 0x7f0cda7a3990>, because it is not built.\n",
            "WARNING:tensorflow:Skipping full serialization of Keras layer <object_detection.core.freezable_batch_norm.FreezableBatchNorm object at 0x7f0cda9c4790>, because it is not built.\n",
            "W0612 18:47:03.171839 139694916016000 save_impl.py:77] Skipping full serialization of Keras layer <object_detection.core.freezable_batch_norm.FreezableBatchNorm object at 0x7f0cda9c4790>, because it is not built.\n",
            "WARNING:tensorflow:Skipping full serialization of Keras layer <tensorflow.python.keras.layers.core.Lambda object at 0x7f0cda7e8490>, because it is not built.\n",
            "W0612 18:47:03.171942 139694916016000 save_impl.py:77] Skipping full serialization of Keras layer <tensorflow.python.keras.layers.core.Lambda object at 0x7f0cda7e8490>, because it is not built.\n",
            "WARNING:tensorflow:Skipping full serialization of Keras layer <object_detection.core.freezable_batch_norm.FreezableBatchNorm object at 0x7f0cdabf51d0>, because it is not built.\n",
            "W0612 18:47:03.172044 139694916016000 save_impl.py:77] Skipping full serialization of Keras layer <object_detection.core.freezable_batch_norm.FreezableBatchNorm object at 0x7f0cdabf51d0>, because it is not built.\n",
            "WARNING:tensorflow:Skipping full serialization of Keras layer <tensorflow.python.keras.layers.core.Lambda object at 0x7f0cda7e89d0>, because it is not built.\n",
            "W0612 18:47:03.172155 139694916016000 save_impl.py:77] Skipping full serialization of Keras layer <tensorflow.python.keras.layers.core.Lambda object at 0x7f0cda7e89d0>, because it is not built.\n",
            "WARNING:tensorflow:Skipping full serialization of Keras layer <object_detection.core.freezable_batch_norm.FreezableBatchNorm object at 0x7f0cda7e8b10>, because it is not built.\n",
            "W0612 18:47:03.172266 139694916016000 save_impl.py:77] Skipping full serialization of Keras layer <object_detection.core.freezable_batch_norm.FreezableBatchNorm object at 0x7f0cda7e8b10>, because it is not built.\n",
            "WARNING:tensorflow:Skipping full serialization of Keras layer <tensorflow.python.keras.layers.core.Lambda object at 0x7f0cda7e8810>, because it is not built.\n",
            "W0612 18:47:03.172370 139694916016000 save_impl.py:77] Skipping full serialization of Keras layer <tensorflow.python.keras.layers.core.Lambda object at 0x7f0cda7e8810>, because it is not built.\n",
            "WARNING:tensorflow:Skipping full serialization of Keras layer <object_detection.core.freezable_batch_norm.FreezableBatchNorm object at 0x7f0cda6ffb50>, because it is not built.\n",
            "W0612 18:47:03.172472 139694916016000 save_impl.py:77] Skipping full serialization of Keras layer <object_detection.core.freezable_batch_norm.FreezableBatchNorm object at 0x7f0cda6ffb50>, because it is not built.\n",
            "WARNING:tensorflow:Skipping full serialization of Keras layer <tensorflow.python.keras.layers.core.Lambda object at 0x7f0cdaa98590>, because it is not built.\n",
            "W0612 18:47:03.172580 139694916016000 save_impl.py:77] Skipping full serialization of Keras layer <tensorflow.python.keras.layers.core.Lambda object at 0x7f0cdaa98590>, because it is not built.\n",
            "WARNING:tensorflow:Skipping full serialization of Keras layer <object_detection.core.freezable_batch_norm.FreezableBatchNorm object at 0x7f0cda7bc190>, because it is not built.\n",
            "W0612 18:47:03.172691 139694916016000 save_impl.py:77] Skipping full serialization of Keras layer <object_detection.core.freezable_batch_norm.FreezableBatchNorm object at 0x7f0cda7bc190>, because it is not built.\n",
            "WARNING:tensorflow:Skipping full serialization of Keras layer <tensorflow.python.keras.layers.core.Lambda object at 0x7f0cda9ace50>, because it is not built.\n",
            "W0612 18:47:03.172794 139694916016000 save_impl.py:77] Skipping full serialization of Keras layer <tensorflow.python.keras.layers.core.Lambda object at 0x7f0cda9ace50>, because it is not built.\n",
            "WARNING:tensorflow:Skipping full serialization of Keras layer <object_detection.core.freezable_batch_norm.FreezableBatchNorm object at 0x7f0cdae3e950>, because it is not built.\n",
            "W0612 18:47:03.172913 139694916016000 save_impl.py:77] Skipping full serialization of Keras layer <object_detection.core.freezable_batch_norm.FreezableBatchNorm object at 0x7f0cdae3e950>, because it is not built.\n",
            "WARNING:tensorflow:Skipping full serialization of Keras layer <tensorflow.python.keras.layers.core.Lambda object at 0x7f0cda7bc710>, because it is not built.\n",
            "W0612 18:47:03.173015 139694916016000 save_impl.py:77] Skipping full serialization of Keras layer <tensorflow.python.keras.layers.core.Lambda object at 0x7f0cda7bc710>, because it is not built.\n",
            "WARNING:tensorflow:Skipping full serialization of Keras layer <object_detection.core.freezable_batch_norm.FreezableBatchNorm object at 0x7f0cdab794d0>, because it is not built.\n",
            "W0612 18:47:03.173117 139694916016000 save_impl.py:77] Skipping full serialization of Keras layer <object_detection.core.freezable_batch_norm.FreezableBatchNorm object at 0x7f0cdab794d0>, because it is not built.\n",
            "WARNING:tensorflow:Skipping full serialization of Keras layer <tensorflow.python.keras.layers.core.Lambda object at 0x7f0cda7bcdd0>, because it is not built.\n",
            "W0612 18:47:03.173222 139694916016000 save_impl.py:77] Skipping full serialization of Keras layer <tensorflow.python.keras.layers.core.Lambda object at 0x7f0cda7bcdd0>, because it is not built.\n",
            "WARNING:tensorflow:Skipping full serialization of Keras layer <object_detection.core.freezable_batch_norm.FreezableBatchNorm object at 0x7f0cdb1bc250>, because it is not built.\n",
            "W0612 18:47:03.173325 139694916016000 save_impl.py:77] Skipping full serialization of Keras layer <object_detection.core.freezable_batch_norm.FreezableBatchNorm object at 0x7f0cdb1bc250>, because it is not built.\n",
            "WARNING:tensorflow:Skipping full serialization of Keras layer <tensorflow.python.keras.layers.core.Lambda object at 0x7f0cdae38a50>, because it is not built.\n",
            "W0612 18:47:03.173433 139694916016000 save_impl.py:77] Skipping full serialization of Keras layer <tensorflow.python.keras.layers.core.Lambda object at 0x7f0cdae38a50>, because it is not built.\n",
            "WARNING:tensorflow:Skipping full serialization of Keras layer <object_detection.core.freezable_batch_norm.FreezableBatchNorm object at 0x7f0cda822350>, because it is not built.\n",
            "W0612 18:47:03.173533 139694916016000 save_impl.py:77] Skipping full serialization of Keras layer <object_detection.core.freezable_batch_norm.FreezableBatchNorm object at 0x7f0cda822350>, because it is not built.\n",
            "WARNING:tensorflow:Skipping full serialization of Keras layer <tensorflow.python.keras.layers.core.Lambda object at 0x7f0cda822c50>, because it is not built.\n",
            "W0612 18:47:03.173640 139694916016000 save_impl.py:77] Skipping full serialization of Keras layer <tensorflow.python.keras.layers.core.Lambda object at 0x7f0cda822c50>, because it is not built.\n",
            "WARNING:tensorflow:Skipping full serialization of Keras layer <object_detection.core.freezable_batch_norm.FreezableBatchNorm object at 0x7f0cda822bd0>, because it is not built.\n",
            "W0612 18:47:03.173742 139694916016000 save_impl.py:77] Skipping full serialization of Keras layer <object_detection.core.freezable_batch_norm.FreezableBatchNorm object at 0x7f0cda822bd0>, because it is not built.\n",
            "WARNING:tensorflow:Skipping full serialization of Keras layer <tensorflow.python.keras.layers.core.Lambda object at 0x7f0cda78c2d0>, because it is not built.\n",
            "W0612 18:47:03.173853 139694916016000 save_impl.py:77] Skipping full serialization of Keras layer <tensorflow.python.keras.layers.core.Lambda object at 0x7f0cda78c2d0>, because it is not built.\n",
            "WARNING:tensorflow:Skipping full serialization of Keras layer <object_detection.core.freezable_batch_norm.FreezableBatchNorm object at 0x7f0cda78c310>, because it is not built.\n",
            "W0612 18:47:03.173955 139694916016000 save_impl.py:77] Skipping full serialization of Keras layer <object_detection.core.freezable_batch_norm.FreezableBatchNorm object at 0x7f0cda78c310>, because it is not built.\n",
            "WARNING:tensorflow:Skipping full serialization of Keras layer <tensorflow.python.keras.layers.core.Lambda object at 0x7f0cda78cad0>, because it is not built.\n",
            "W0612 18:47:03.226150 139694916016000 save_impl.py:77] Skipping full serialization of Keras layer <tensorflow.python.keras.layers.core.Lambda object at 0x7f0cda78cad0>, because it is not built.\n",
            "2021-06-12 18:47:14.011516: W tensorflow/python/util/util.cc:348] Sets are not currently considered sequences, but this may change in the future, so consider avoiding using them.\n",
            "W0612 18:47:33.423403 139694916016000 save.py:254] Found untraced functions such as WeightSharedConvolutionalBoxPredictor_layer_call_and_return_conditional_losses, WeightSharedConvolutionalBoxPredictor_layer_call_fn, WeightSharedConvolutionalBoxHead_layer_call_and_return_conditional_losses, WeightSharedConvolutionalBoxHead_layer_call_fn, WeightSharedConvolutionalBoxPredictor_layer_call_fn while saving (showing 5 of 260). These functions will not be directly callable after loading.\n",
            "INFO:tensorflow:Assets written to: /content/saved_model/assets\n",
            "I0612 18:47:37.804980 139694916016000 builder_impl.py:781] Assets written to: /content/saved_model/assets\n"
          ],
          "name": "stdout"
        }
      ]
    },
    {
      "cell_type": "code",
      "metadata": {
        "id": "fq30RsVAuBbo",
        "colab": {
          "base_uri": "https://localhost:8080/"
        },
        "outputId": "d6d88b21-4bb3-4c72-9382-29bd64532a01"
      },
      "source": [
        "!ls -lah /content/saved_model/"
      ],
      "execution_count": null,
      "outputs": [
        {
          "output_type": "stream",
          "text": [
            "total 9.8M\n",
            "drwxr-xr-x 4 root root 4.0K Jun 12 18:47 .\n",
            "drwxr-xr-x 1 root root 4.0K Jun 12 18:47 ..\n",
            "drwxr-xr-x 2 root root 4.0K Jun 12 18:47 assets\n",
            "-rw-r--r-- 1 root root 9.8M Jun 12 18:47 saved_model.pb\n",
            "drwxr-xr-x 2 root root 4.0K Jun 12 18:47 variables\n"
          ],
          "name": "stdout"
        }
      ]
    },
    {
      "cell_type": "markdown",
      "metadata": {
        "id": "73RnTbcYuQrq"
      },
      "source": [
        "### 2. Convert model to Tensorflow Lite"
      ]
    },
    {
      "cell_type": "code",
      "metadata": {
        "id": "K-jEQhSJuX9O",
        "colab": {
          "base_uri": "https://localhost:8080/"
        },
        "outputId": "9df69b87-fc71-4e8d-82e5-1bd66c2ac175"
      },
      "source": [
        "import tensorflow as tf\n",
        "\n",
        "# Convert the model to TF lite\n",
        "converter = tf.lite.TFLiteConverter.from_saved_model('/content/saved_model/')\n",
        "converter.optimizations = [tf.lite.Optimize.DEFAULT]\n",
        "tflite_model = converter.convert()\n",
        "\n",
        "# Serialize the model\n",
        "open('model.tflite', 'wb').write(tflite_model)"
      ],
      "execution_count": null,
      "outputs": [
        {
          "output_type": "execute_result",
          "data": {
            "text/plain": [
              "4298944"
            ]
          },
          "metadata": {
            "tags": []
          },
          "execution_count": 13
        }
      ]
    },
    {
      "cell_type": "code",
      "metadata": {
        "id": "PhrJPCjBubXd",
        "colab": {
          "base_uri": "https://localhost:8080/"
        },
        "outputId": "71218594-4f94-4556-919c-e983bf85969d"
      },
      "source": [
        "!ls -lah model.tflite"
      ],
      "execution_count": null,
      "outputs": [
        {
          "output_type": "stream",
          "text": [
            "-rw-r--r-- 1 root root 4.1M Jun 12 18:48 model.tflite\n"
          ],
          "name": "stdout"
        }
      ]
    },
    {
      "cell_type": "markdown",
      "metadata": {
        "id": "dgx35A88ijET"
      },
      "source": [
        "### 3. Add Metadata\n",
        "\n",
        "from https://github.com/tensorflow/models/blob/master/research/object_detection/colab_tutorials/convert_odt_model_to_TFLite.ipynb"
      ]
    },
    {
      "cell_type": "code",
      "metadata": {
        "id": "Y-Uk1-Rlilj4"
      },
      "source": [
        "from object_detection.utils import label_map_util\n",
        "\n",
        "# Download the COCO dataset label map that was used to trained the SSD MobileNet V2 FPNLite 640x640 model\n",
        "!wget https://raw.githubusercontent.com/tensorflow/models/master/research/object_detection/data/mscoco_label_map.pbtxt -q\n",
        "\n",
        "# We need to convert the Object Detection API's labelmap into what the Task API needs:\n",
        "# a txt file with one class name on each line from index 0 to N.\n",
        "# The first '0' class indicates the background.\n",
        "# This code assumes COCO detection which has 90 classes, you can write a label\n",
        "# map file for your model if re-trained.\n",
        "_ODT_LABEL_MAP_PATH = 'mscoco_label_map.pbtxt'\n",
        "_TFLITE_LABEL_PATH = \"/content/tflite_label_map.txt\"\n",
        "\n",
        "category_index = label_map_util.create_category_index_from_labelmap(\n",
        "    _ODT_LABEL_MAP_PATH)\n",
        "f = open(_TFLITE_LABEL_PATH, 'w')\n",
        "for class_id in range(1, 91):\n",
        "  if class_id not in category_index:\n",
        "    f.write('???\\n')\n",
        "    continue\n",
        "  name = category_index[class_id]['name']\n",
        "  f.write(name+'\\n')\n",
        "f.close()"
      ],
      "execution_count": null,
      "outputs": []
    },
    {
      "cell_type": "code",
      "metadata": {
        "id": "CmzAvq0SizWr"
      },
      "source": [
        "from tflite_support.metadata_writers import object_detector\n",
        "from tflite_support.metadata_writers import writer_utils\n",
        "\n",
        "_TFLITE_MODEL_WITH_METADATA_PATH = \"/content/model_with_metadata.tflite\"\n",
        "\n",
        "writer = object_detector.MetadataWriter.create_for_inference(\n",
        "    writer_utils.load_file('model.tflite'), input_norm_mean=[127.5], \n",
        "    input_norm_std=[127.5], label_file_paths=[_TFLITE_LABEL_PATH])\n",
        "writer_utils.save_file(writer.populate(), _TFLITE_MODEL_WITH_METADATA_PATH)"
      ],
      "execution_count": null,
      "outputs": []
    },
    {
      "cell_type": "code",
      "metadata": {
        "id": "HFG3NI1Mi8Wx",
        "colab": {
          "base_uri": "https://localhost:8080/"
        },
        "outputId": "f53246a0-b3a9-4038-c20c-89d5ff85cd80"
      },
      "source": [
        "from tflite_support import metadata\n",
        "\n",
        "displayer = metadata.MetadataDisplayer.with_model_file(_TFLITE_MODEL_WITH_METADATA_PATH)\n",
        "print(\"Metadata populated:\")\n",
        "print(displayer.get_metadata_json())\n",
        "print(\"=============================\")\n",
        "print(\"Associated file(s) populated:\")\n",
        "print(displayer.get_packed_associated_file_list())"
      ],
      "execution_count": null,
      "outputs": [
        {
          "output_type": "stream",
          "text": [
            "Metadata populated:\n",
            "{\n",
            "  \"name\": \"ObjectDetector\",\n",
            "  \"description\": \"Identify which of a known set of objects might be present and provide information about their positions within the given image or a video stream.\",\n",
            "  \"subgraph_metadata\": [\n",
            "    {\n",
            "      \"input_tensor_metadata\": [\n",
            "        {\n",
            "          \"name\": \"image\",\n",
            "          \"description\": \"Input image to be detected.\",\n",
            "          \"content\": {\n",
            "            \"content_properties_type\": \"ImageProperties\",\n",
            "            \"content_properties\": {\n",
            "              \"color_space\": \"RGB\"\n",
            "            }\n",
            "          },\n",
            "          \"process_units\": [\n",
            "            {\n",
            "              \"options_type\": \"NormalizationOptions\",\n",
            "              \"options\": {\n",
            "                \"mean\": [\n",
            "                  127.5\n",
            "                ],\n",
            "                \"std\": [\n",
            "                  127.5\n",
            "                ]\n",
            "              }\n",
            "            }\n",
            "          ],\n",
            "          \"stats\": {\n",
            "            \"max\": [\n",
            "              1.0\n",
            "            ],\n",
            "            \"min\": [\n",
            "              -1.0\n",
            "            ]\n",
            "          }\n",
            "        }\n",
            "      ],\n",
            "      \"output_tensor_metadata\": [\n",
            "        {\n",
            "          \"name\": \"location\",\n",
            "          \"description\": \"The locations of the detected boxes.\",\n",
            "          \"content\": {\n",
            "            \"content_properties_type\": \"BoundingBoxProperties\",\n",
            "            \"content_properties\": {\n",
            "              \"index\": [\n",
            "                1,\n",
            "                0,\n",
            "                3,\n",
            "                2\n",
            "              ],\n",
            "              \"type\": \"BOUNDARIES\"\n",
            "            },\n",
            "            \"range\": {\n",
            "              \"min\": 2,\n",
            "              \"max\": 2\n",
            "            }\n",
            "          },\n",
            "          \"stats\": {\n",
            "          }\n",
            "        },\n",
            "        {\n",
            "          \"name\": \"category\",\n",
            "          \"description\": \"The categories of the detected boxes.\",\n",
            "          \"content\": {\n",
            "            \"content_properties_type\": \"FeatureProperties\",\n",
            "            \"content_properties\": {\n",
            "            },\n",
            "            \"range\": {\n",
            "              \"min\": 2,\n",
            "              \"max\": 2\n",
            "            }\n",
            "          },\n",
            "          \"stats\": {\n",
            "          },\n",
            "          \"associated_files\": [\n",
            "            {\n",
            "              \"name\": \"tflite_label_map.txt\",\n",
            "              \"description\": \"Labels for categories that the model can recognize.\",\n",
            "              \"type\": \"TENSOR_VALUE_LABELS\"\n",
            "            }\n",
            "          ]\n",
            "        },\n",
            "        {\n",
            "          \"name\": \"score\",\n",
            "          \"description\": \"The scores of the detected boxes.\",\n",
            "          \"content\": {\n",
            "            \"content_properties_type\": \"FeatureProperties\",\n",
            "            \"content_properties\": {\n",
            "            },\n",
            "            \"range\": {\n",
            "              \"min\": 2,\n",
            "              \"max\": 2\n",
            "            }\n",
            "          },\n",
            "          \"stats\": {\n",
            "          }\n",
            "        },\n",
            "        {\n",
            "          \"name\": \"number of detections\",\n",
            "          \"description\": \"The number of the detected boxes.\",\n",
            "          \"content\": {\n",
            "            \"content_properties_type\": \"FeatureProperties\",\n",
            "            \"content_properties\": {\n",
            "            }\n",
            "          },\n",
            "          \"stats\": {\n",
            "          }\n",
            "        }\n",
            "      ],\n",
            "      \"output_tensor_groups\": [\n",
            "        {\n",
            "          \"name\": \"detection_result\",\n",
            "          \"tensor_names\": [\n",
            "            \"location\",\n",
            "            \"category\",\n",
            "            \"score\"\n",
            "          ]\n",
            "        }\n",
            "      ]\n",
            "    }\n",
            "  ],\n",
            "  \"min_parser_version\": \"1.2.0\"\n",
            "}\n",
            "\n",
            "=============================\n",
            "Associated file(s) populated:\n",
            "['tflite_label_map.txt']\n"
          ],
          "name": "stdout"
        }
      ]
    }
  ]
}